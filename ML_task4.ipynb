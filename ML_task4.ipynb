{
 "cells": [
  {
   "cell_type": "code",
   "execution_count": 1,
   "id": "86357d4f-2eab-4c35-a8da-13d87f2fb236",
   "metadata": {},
   "outputs": [],
   "source": [
    "from tensorflow.keras import layers,models\n",
    "import matplotlib.pyplot as plt\n",
    "import numpy as np\n",
    "from skimage.io import imread\n",
    "from skimage.transform import resize\n",
    "from sklearn.model_selection import train_test_split\n",
    "from sklearn.metrics import classification_report\n",
    "import os"
   ]
  },
  {
   "cell_type": "code",
   "execution_count": 2,
   "id": "1cd494f7-592c-48d4-bcd8-398e508626f7",
   "metadata": {},
   "outputs": [
    {
     "name": "stdout",
     "output_type": "stream",
     "text": [
      "01_palm\n",
      "02_l\n",
      "03_fist\n",
      "04_fist_moved\n",
      "05_thumb\n",
      "06_index\n",
      "07_ok\n",
      "08_palm_moved\n",
      "09_c\n",
      "10_down\n"
     ]
    }
   ],
   "source": [
    "datadir = \"train_4/\"\n",
    "target_arr = []\n",
    "data_arr = []\n",
    "\n",
    "for index in range(len(os.listdir(datadir))):\n",
    "    folder_path=(os.path.join(datadir,os.listdir(datadir)[index])) \n",
    "    for file in os.listdir(folder_path):\n",
    "        target_arr.append(index)\n",
    "        img_array = imread(os.path.join(folder_path,file))\n",
    "        img_resized = resize(img_array,(64,64,3))\n",
    "        data_arr.append(img_resized)\n",
    "    print(os.listdir(datadir)[index])\n",
    "target = np.array(target_arr)\n",
    "data = np.array(data_arr)"
   ]
  },
  {
   "cell_type": "code",
   "execution_count": 3,
   "id": "6abe5100-e96d-4364-86aa-1f6fd484b894",
   "metadata": {},
   "outputs": [
    {
     "data": {
      "text/plain": [
       "2000"
      ]
     },
     "execution_count": 3,
     "metadata": {},
     "output_type": "execute_result"
    }
   ],
   "source": [
    "category = [\"palm\",\"L\",\"fist\",\"fist_moved\",\"thumb\",\"index\",\"ok\",\"palm_moved\",\"C\",\"down\"]\n",
    "x = data\n",
    "y = target\n",
    "len(data)"
   ]
  },
  {
   "cell_type": "code",
   "execution_count": 4,
   "id": "6656753c-5350-43d5-a7a0-28f2e5171267",
   "metadata": {},
   "outputs": [
    {
     "data": {
      "text/plain": [
       "600"
      ]
     },
     "execution_count": 4,
     "metadata": {},
     "output_type": "execute_result"
    }
   ],
   "source": [
    "x_train,x_test,y_train,y_test = train_test_split(x,y,test_size=0.3)\n",
    "len(x_test)"
   ]
  },
  {
   "cell_type": "code",
   "execution_count": 5,
   "id": "933b849b-b019-42bd-b059-5b7cee281823",
   "metadata": {},
   "outputs": [],
   "source": [
    "def plot_sample(x, y, index):\n",
    "    plt.figure(figsize=(15,2))\n",
    "    plt.imshow(x[index])\n",
    "    plt.xlabel(category[y[index]])"
   ]
  },
  {
   "cell_type": "code",
   "execution_count": 6,
   "id": "175c8228-cee2-48f7-8dab-a486616d1297",
   "metadata": {},
   "outputs": [
    {
     "data": {
      "image/png": "[encoded data removed]",
      "text/plain": [
       "<Figure size 1500x200 with 1 Axes>"
      ]
     },
     "metadata": {},
     "output_type": "display_data"
    }
   ],
   "source": [
    "plot_sample(x_train,y_train,8)"
   ]
  },
  {
   "cell_type": "code",
   "execution_count": 7,
   "id": "8b88b6dd-ed04-496c-a0d5-9d2773cf0455",
   "metadata": {},
   "outputs": [
    {
     "name": "stderr",
     "output_type": "stream",
     "text": [
      "C:\\Users\\Lenovo\\AppData\\Local\\Programs\\Python\\Python311\\Lib\\site-packages\\keras\\src\\layers\\convolutional\\base_conv.py:107: UserWarning: Do not pass an `input_shape`/`input_dim` argument to a layer. When using Sequential models, prefer using an `Input(shape)` object as the first layer in the model instead.\n",
      "  super().__init__(activity_regularizer=activity_regularizer, **kwargs)\n"
     ]
    }
   ],
   "source": [
    "cnn = models.Sequential([\n",
    "    # cnn\n",
    "    layers.Conv2D(filters=32, kernel_size=(3,3), activation='relu', input_shape=(64,64,3)),\n",
    "    layers.MaxPooling2D((2,2)),\n",
    "    layers.Conv2D(filters=64, kernel_size=(3,3), activation='relu'),\n",
    "    layers.MaxPooling2D((2,2)),\n",
    "    # dense\n",
    "    layers.Flatten(),\n",
    "    layers.Dense(64, activation='relu'),\n",
    "    layers.Dense(10, activation='softmax')  \n",
    "])"
   ]
  },
  {
   "cell_type": "code",
   "execution_count": 8,
   "id": "77d875cf-9384-4d27-833e-d188f13cfb56",
   "metadata": {},
   "outputs": [],
   "source": [
    "cnn.compile(optimizer='adam',loss='sparse_categorical_crossentropy',metrics=['accuracy'])"
   ]
  },
  {
   "cell_type": "code",
   "execution_count": 9,
   "id": "cc1b26c9-ff7f-4f24-bf84-8fc32988387c",
   "metadata": {},
   "outputs": [
    {
     "name": "stdout",
     "output_type": "stream",
     "text": [
      "Epoch 1/10\n",
      "\u001b[1m44/44\u001b[0m \u001b[32m━━━━━━━━━━━━━━━━━━━━\u001b[0m\u001b[37m\u001b[0m \u001b[1m4s\u001b[0m 45ms/step - accuracy: 0.4702 - loss: 1.5242\n",
      "Epoch 2/10\n",
      "\u001b[1m44/44\u001b[0m \u001b[32m━━━━━━━━━━━━━━━━━━━━\u001b[0m\u001b[37m\u001b[0m \u001b[1m2s\u001b[0m 39ms/step - accuracy: 0.9901 - loss: 0.0258\n",
      "Epoch 3/10\n",
      "\u001b[1m44/44\u001b[0m \u001b[32m━━━━━━━━━━━━━━━━━━━━\u001b[0m\u001b[37m\u001b[0m \u001b[1m2s\u001b[0m 37ms/step - accuracy: 1.0000 - loss: 0.0045\n",
      "Epoch 4/10\n",
      "\u001b[1m44/44\u001b[0m \u001b[32m━━━━━━━━━━━━━━━━━━━━\u001b[0m\u001b[37m\u001b[0m \u001b[1m2s\u001b[0m 36ms/step - accuracy: 1.0000 - loss: 7.1435e-04\n",
      "Epoch 5/10\n",
      "\u001b[1m44/44\u001b[0m \u001b[32m━━━━━━━━━━━━━━━━━━━━\u001b[0m\u001b[37m\u001b[0m \u001b[1m2s\u001b[0m 35ms/step - accuracy: 1.0000 - loss: 3.5464e-04\n",
      "Epoch 6/10\n",
      "\u001b[1m44/44\u001b[0m \u001b[32m━━━━━━━━━━━━━━━━━━━━\u001b[0m\u001b[37m\u001b[0m \u001b[1m2s\u001b[0m 36ms/step - accuracy: 1.0000 - loss: 2.7675e-04\n",
      "Epoch 7/10\n",
      "\u001b[1m44/44\u001b[0m \u001b[32m━━━━━━━━━━━━━━━━━━━━\u001b[0m\u001b[37m\u001b[0m \u001b[1m2s\u001b[0m 36ms/step - accuracy: 1.0000 - loss: 1.9153e-04\n",
      "Epoch 8/10\n",
      "\u001b[1m44/44\u001b[0m \u001b[32m━━━━━━━━━━━━━━━━━━━━\u001b[0m\u001b[37m\u001b[0m \u001b[1m2s\u001b[0m 36ms/step - accuracy: 1.0000 - loss: 2.2113e-04\n",
      "Epoch 9/10\n",
      "\u001b[1m44/44\u001b[0m \u001b[32m━━━━━━━━━━━━━━━━━━━━\u001b[0m\u001b[37m\u001b[0m \u001b[1m2s\u001b[0m 36ms/step - accuracy: 0.9969 - loss: 0.0071\n",
      "Epoch 10/10\n",
      "\u001b[1m44/44\u001b[0m \u001b[32m━━━━━━━━━━━━━━━━━━━━\u001b[0m\u001b[37m\u001b[0m \u001b[1m2s\u001b[0m 36ms/step - accuracy: 0.9937 - loss: 0.0120\n"
     ]
    },
    {
     "data": {
      "text/plain": [
       "<keras.src.callbacks.history.History at 0x2512bc3ced0>"
      ]
     },
     "execution_count": 9,
     "metadata": {},
     "output_type": "execute_result"
    }
   ],
   "source": [
    "cnn.fit(x_train,y_train,epochs=10)"
   ]
  },
  {
   "cell_type": "code",
   "execution_count": 10,
   "id": "7bf26daa-ecf3-4818-aa08-ab4efdebaf30",
   "metadata": {},
   "outputs": [
    {
     "name": "stdout",
     "output_type": "stream",
     "text": [
      "\u001b[1m19/19\u001b[0m \u001b[32m━━━━━━━━━━━━━━━━━━━━\u001b[0m\u001b[37m\u001b[0m \u001b[1m0s\u001b[0m 12ms/step - accuracy: 0.9995 - loss: 0.0019\n"
     ]
    },
    {
     "data": {
      "text/plain": [
       "[0.0033512040972709656, 0.9983333349227905]"
      ]
     },
     "execution_count": 10,
     "metadata": {},
     "output_type": "execute_result"
    }
   ],
   "source": [
    "cnn.evaluate(x_test,y_test)"
   ]
  },
  {
   "cell_type": "code",
   "execution_count": 11,
   "id": "2968874c-194f-499a-b0d1-d9fe143578ea",
   "metadata": {},
   "outputs": [
    {
     "name": "stdout",
     "output_type": "stream",
     "text": [
      "\u001b[1m19/19\u001b[0m \u001b[32m━━━━━━━━━━━━━━━━━━━━\u001b[0m\u001b[37m\u001b[0m \u001b[1m0s\u001b[0m 15ms/step\n"
     ]
    }
   ],
   "source": [
    "y_predict = cnn.predict(x_test)\n",
    "y_result = [np.argmax(element) for element in y_predict]"
   ]
  },
  {
   "cell_type": "code",
   "execution_count": 12,
   "id": "01d459f7-5053-4a6f-802b-328ae339a8fc",
   "metadata": {},
   "outputs": [
    {
     "data": {
      "image/png": "[encoded data removed]",
      "text/plain": [
       "<Figure size 1500x200 with 1 Axes>"
      ]
     },
     "metadata": {},
     "output_type": "display_data"
    }
   ],
   "source": [
    "plot_sample(x_test,y_test,0)"
   ]
  },
  {
   "cell_type": "code",
   "execution_count": 13,
   "id": "d55ded53-3c3b-4082-bb59-d698ab304a96",
   "metadata": {},
   "outputs": [
    {
     "data": {
      "text/plain": [
       "'              precision    recall  f1-score   support\\n\\n           0       1.00      1.00      1.00        58\\n           1       1.00      1.00      1.00        64\\n           2       0.98      1.00      0.99        58\\n           3       1.00      1.00      1.00        63\\n           4       1.00      0.98      0.99        61\\n           5       1.00      1.00      1.00        57\\n           6       1.00      1.00      1.00        57\\n           7       1.00      1.00      1.00        54\\n           8       1.00      1.00      1.00        65\\n           9       1.00      1.00      1.00        63\\n\\n    accuracy                           1.00       600\\n   macro avg       1.00      1.00      1.00       600\\nweighted avg       1.00      1.00      1.00       600\\n'"
      ]
     },
     "execution_count": 13,
     "metadata": {},
     "output_type": "execute_result"
    }
   ],
   "source": [
    "report = classification_report(y_test,y_result)\n",
    "report"
   ]
  },
  {
   "cell_type": "code",
   "execution_count": 16,
   "id": "bb1f6a49-4f6c-485d-bb0f-c2d80b3d0933",
   "metadata": {},
   "outputs": [
    {
     "name": "stdout",
     "output_type": "stream",
     "text": [
      "\u001b[1m19/19\u001b[0m \u001b[32m━━━━━━━━━━━━━━━━━━━━\u001b[0m\u001b[37m\u001b[0m \u001b[1m0s\u001b[0m 10ms/step\n"
     ]
    }
   ],
   "source": [
    "from tensorflow.keras import models, layers\n",
    "y_predicted = cnn.predict(x_test)"
   ]
  },
  {
   "cell_type": "code",
   "execution_count": 18,
   "id": "7ad9676b-3e3a-4a5f-9b4e-df8c2eefc46c",
   "metadata": {},
   "outputs": [
    {
     "name": "stdout",
     "output_type": "stream",
     "text": [
      "y_test shape: (600,)\n",
      "y_predicted shape: (600, 10)\n",
      "[[58  0  0  0  0  0  0  0  0  0]\n",
      " [ 0 64  0  0  0  0  0  0  0  0]\n",
      " [ 0  0 58  0  0  0  0  0  0  0]\n",
      " [ 0  0  0 63  0  0  0  0  0  0]\n",
      " [ 0  0  1  0 60  0  0  0  0  0]\n",
      " [ 0  0  0  0  0 57  0  0  0  0]\n",
      " [ 0  0  0  0  0  0 57  0  0  0]\n",
      " [ 0  0  0  0  0  0  0 54  0  0]\n",
      " [ 0  0  0  0  0  0  0  0 65  0]\n",
      " [ 0  0  0  0  0  0  0  0  0 63]]\n"
     ]
    }
   ],
   "source": [
    "from sklearn.metrics import confusion_matrix\n",
    "\n",
    "print(\"y_test shape:\", y_test.shape)\n",
    "print(\"y_predicted shape:\", y_predicted.shape)\n",
    "\n",
    "y_predicted_classes = np.argmax(y_predicted, axis=1)\n",
    "\n",
    "c = confusion_matrix(y_test, y_predicted_classes)\n",
    "print(c)"
   ]
  },
  {
   "cell_type": "code",
   "execution_count": null,
   "id": "603917ca-5769-496d-a900-879c03e3a786",
   "metadata": {},
   "outputs": [],
   "source": []
  }
 ],
 "metadata": {
  "kernelspec": {
   "display_name": "Python 3 (ipykernel)",
   "language": "python",
   "name": "python3"
  },
  "language_info": {
   "codemirror_mode": {
    "name": "ipython",
    "version": 3
   },
   "file_extension": ".py",
   "mimetype": "text/x-python",
   "name": "python",
   "nbconvert_exporter": "python",
   "pygments_lexer": "ipython3",
   "version": "3.11.3"
  }
 },
 "nbformat": 4,
 "nbformat_minor": 5
}
